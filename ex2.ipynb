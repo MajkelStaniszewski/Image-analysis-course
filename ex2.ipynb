{
 "cells": [
  {
   "cell_type": "markdown",
   "metadata": {},
   "source": [
    "Exercise 1"
   ]
  },
  {
   "cell_type": "code",
   "execution_count": 1,
   "metadata": {},
   "outputs": [
    {
     "name": "stdout",
     "output_type": "stream",
     "text": [
      "The angle θ is 73.30 degrees.\n"
     ]
    }
   ],
   "source": [
    "import math\n",
    "\n",
    "# Given values\n",
    "a = 10\n",
    "b = 3\n",
    "\n",
    "# Calculate theta using atan2\n",
    "theta_radians = math.atan2(a, b)\n",
    "\n",
    "# Convert to degrees\n",
    "theta_degrees = 180.0 / math.pi * theta_radians\n",
    "\n",
    "print(f\"The angle θ is {theta_degrees:.2f} degrees.\")\n"
   ]
  },
  {
   "attachments": {
    "image.png": {
     "image/png": "[encoded data removed]"
    }
   },
   "cell_type": "markdown",
   "metadata": {},
   "source": [
    "Exercise 2\n",
    "\n",
    "![image.png](attachment:image.png)\n"
   ]
  },
  {
   "cell_type": "code",
   "execution_count": 2,
   "metadata": {},
   "outputs": [
    {
     "name": "stdout",
     "output_type": "stream",
     "text": [
      "For object distance 0.1 m, CCD should be placed at 17.65 mm.\n",
      "For object distance 1.0 m, CCD should be placed at 15.23 mm.\n",
      "For object distance 5.0 m, CCD should be placed at 15.05 mm.\n",
      "For object distance 15.0 m, CCD should be placed at 15.02 mm.\n",
      "\n",
      "As the object distance increases, the CCD needs to be placed closer to the focal point of the lens (towards the focal length). When the object is at infinity, the CCD is placed exactly at the focal length.\n"
     ]
    }
   ],
   "source": [
    "def camera_b_distance(f, g):\n",
    "    \"\"\"\n",
    "    camera_b_distance returns the distance (b) where the CCD should be placed\n",
    "    when the object distance (g) and the focal length (f) are given\n",
    "    :param f: Focal length in mm\n",
    "    :param g: Object distance in mm\n",
    "    :return: b, the distance where the CCD should be placed in mm\n",
    "    \"\"\"\n",
    "    if g == f:  # Prevent division by zero\n",
    "        return float('inf')  # Focus at infinity\n",
    "\n",
    "    b = (f * g) / (g - f)\n",
    "    return b\n",
    "\n",
    "# Given focal length in mm and object distances in meters\n",
    "focal_length_mm = 15  # mm\n",
    "object_distances_m = [0.1, 1, 5, 15]  # meters\n",
    "\n",
    "# Convert object distances to mm for consistent units\n",
    "object_distances_mm = [g * 1000 for g in object_distances_m]\n",
    "\n",
    "# Calculate distances\n",
    "for g_mm in object_distances_mm:\n",
    "    b = camera_b_distance(focal_length_mm, g_mm)\n",
    "    print(f\"For object distance {g_mm / 1000} m, CCD should be placed at {b:.2f} mm.\")\n",
    "\n",
    "# Explanation of CCD placement\n",
    "print(\"\\nAs the object distance increases, the CCD needs to be placed closer to the focal point of the lens (towards the focal length). When the object is at infinity, the CCD is placed exactly at the focal length.\")\n"
   ]
  },
  {
   "cell_type": "markdown",
   "metadata": {},
   "source": [
    "Exercise 3"
   ]
  },
  {
   "cell_type": "code",
   "execution_count": 4,
   "metadata": {},
   "outputs": [
    {
     "name": "stdout",
     "output_type": "stream",
     "text": [
      "Thomas will be focused at a distance of 5.01 mm from the lens.\n"
     ]
    }
   ],
   "source": [
    "# Thomas' height and distance\n",
    "thomas_height_m = 1.8  # meters\n",
    "object_distance_m = 5  # meters\n",
    "\n",
    "# Convert Thomas' distance to mm\n",
    "object_distance_mm = object_distance_m * 1000  # mm\n",
    "\n",
    "# Given camera focal length in mm\n",
    "focal_length_mm = 5  # mm\n",
    "\n",
    "# Calculate distance for focused image\n",
    "b_thomas = camera_b_distance(focal_length_mm, object_distance_mm)\n",
    "print(f\"Thomas will be focused at a distance of {b_thomas:.2f} mm from the lens.\")\n"
   ]
  },
  {
   "cell_type": "code",
   "execution_count": 5,
   "metadata": {},
   "outputs": [
    {
     "name": "stdout",
     "output_type": "stream",
     "text": [
      "Thomas' height on the CCD chip is 1.80 mm.\n"
     ]
    }
   ],
   "source": [
    "# Calculate height of Thomas on the CCD chip\n",
    "thomas_height_ccd_mm = (focal_length_mm * thomas_height_m * 1000) / object_distance_mm\n",
    "print(f\"Thomas' height on the CCD chip is {thomas_height_ccd_mm:.2f} mm.\")\n"
   ]
  },
  {
   "cell_type": "code",
   "execution_count": 6,
   "metadata": {},
   "outputs": [
    {
     "name": "stdout",
     "output_type": "stream",
     "text": [
      "Pixel size is 0.0100 mm (width) x 0.0100 mm (height).\n"
     ]
    }
   ],
   "source": [
    "# CCD chip size in mm\n",
    "ccd_width_mm = 6.4\n",
    "ccd_height_mm = 4.8\n",
    "\n",
    "# CCD resolution\n",
    "ccd_width_px = 640\n",
    "ccd_height_px = 480\n",
    "\n",
    "# Pixel size in mm\n",
    "pixel_size_x_mm = ccd_width_mm / ccd_width_px\n",
    "pixel_size_y_mm = ccd_height_mm / ccd_height_px\n",
    "\n",
    "print(f\"Pixel size is {pixel_size_x_mm:.4f} mm (width) x {pixel_size_y_mm:.4f} mm (height).\")\n"
   ]
  },
  {
   "cell_type": "code",
   "execution_count": 7,
   "metadata": {},
   "outputs": [
    {
     "name": "stdout",
     "output_type": "stream",
     "text": [
      "Thomas' height on the CCD chip is 180.00 pixels.\n"
     ]
    }
   ],
   "source": [
    "# Height in pixels\n",
    "thomas_height_pixels = thomas_height_ccd_mm / pixel_size_y_mm\n",
    "print(f\"Thomas' height on the CCD chip is {thomas_height_pixels:.2f} pixels.\")\n"
   ]
  },
  {
   "cell_type": "code",
   "execution_count": 8,
   "metadata": {},
   "outputs": [
    {
     "name": "stdout",
     "output_type": "stream",
     "text": [
      "Horizontal FoV: 65.24 degrees.\n",
      "Vertical FoV: 51.28 degrees.\n"
     ]
    }
   ],
   "source": [
    "# Horizontal FoV\n",
    "fov_x_rad = 2 * math.atan2(ccd_width_mm / 2, focal_length_mm)\n",
    "fov_x_deg = 180.0 / math.pi * fov_x_rad\n",
    "\n",
    "# Vertical FoV\n",
    "fov_y_rad = 2 * math.atan2(ccd_height_mm / 2, focal_length_mm)\n",
    "fov_y_deg = 180.0 / math.pi * fov_y_rad\n",
    "\n",
    "print(f\"Horizontal FoV: {fov_x_deg:.2f} degrees.\")\n",
    "print(f\"Vertical FoV: {fov_y_deg:.2f} degrees.\")\n"
   ]
  }
 ],
 "metadata": {
  "kernelspec": {
   "display_name": "course02502",
   "language": "python",
   "name": "python3"
  },
  "language_info": {
   "codemirror_mode": {
    "name": "ipython",
    "version": 3
   },
   "file_extension": ".py",
   "mimetype": "text/x-python",
   "name": "python",
   "nbconvert_exporter": "python",
   "pygments_lexer": "ipython3",
   "version": "3.9.19"
  }
 },
 "nbformat": 4,
 "nbformat_minor": 2
}
